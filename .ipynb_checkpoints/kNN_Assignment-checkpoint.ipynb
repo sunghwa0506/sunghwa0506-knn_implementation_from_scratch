{
 "cells": [
  {
   "cell_type": "markdown",
   "metadata": {},
   "source": [
    "# Assignment #2\n",
    "\n",
    "\n",
    "## We will use IRIS dataset. https://archive.ics.uci.edu/ml/datasets/Iris\n",
    "## Below is the process.\n",
    "### a. Divide the dataset as development and test. Because kNN does not require  training you don’t have a train dataset. Make sure randomly divide the dataset\n"
   ]
  },
  {
   "cell_type": "code",
   "execution_count": 502,
   "metadata": {},
   "outputs": [],
   "source": [
    "import numpy as np\n",
    "import matplotlib.pyplot as plt\n",
    "import pandas as pd\n",
    "from sklearn.model_selection import train_test_split\n",
    "from math import sqrt\n",
    "from collections import Counter\n",
    "from sklearn.metrics.pairwise import cosine_similarity"
   ]
  },
  {
   "cell_type": "code",
   "execution_count": 503,
   "metadata": {},
   "outputs": [
    {
     "data": {
      "text/html": [
       "<div>\n",
       "<style scoped>\n",
       "    .dataframe tbody tr th:only-of-type {\n",
       "        vertical-align: middle;\n",
       "    }\n",
       "\n",
       "    .dataframe tbody tr th {\n",
       "        vertical-align: top;\n",
       "    }\n",
       "\n",
       "    .dataframe thead th {\n",
       "        text-align: right;\n",
       "    }\n",
       "</style>\n",
       "<table border=\"1\" class=\"dataframe\">\n",
       "  <thead>\n",
       "    <tr style=\"text-align: right;\">\n",
       "      <th></th>\n",
       "      <th>sepal-length</th>\n",
       "      <th>sepal-width</th>\n",
       "      <th>petal-length</th>\n",
       "      <th>petal-width</th>\n",
       "      <th>Class</th>\n",
       "    </tr>\n",
       "  </thead>\n",
       "  <tbody>\n",
       "    <tr>\n",
       "      <th>0</th>\n",
       "      <td>5.1</td>\n",
       "      <td>3.5</td>\n",
       "      <td>1.4</td>\n",
       "      <td>0.2</td>\n",
       "      <td>Iris-setosa</td>\n",
       "    </tr>\n",
       "    <tr>\n",
       "      <th>1</th>\n",
       "      <td>4.9</td>\n",
       "      <td>3.0</td>\n",
       "      <td>1.4</td>\n",
       "      <td>0.2</td>\n",
       "      <td>Iris-setosa</td>\n",
       "    </tr>\n",
       "    <tr>\n",
       "      <th>2</th>\n",
       "      <td>4.7</td>\n",
       "      <td>3.2</td>\n",
       "      <td>1.3</td>\n",
       "      <td>0.2</td>\n",
       "      <td>Iris-setosa</td>\n",
       "    </tr>\n",
       "    <tr>\n",
       "      <th>3</th>\n",
       "      <td>4.6</td>\n",
       "      <td>3.1</td>\n",
       "      <td>1.5</td>\n",
       "      <td>0.2</td>\n",
       "      <td>Iris-setosa</td>\n",
       "    </tr>\n",
       "    <tr>\n",
       "      <th>4</th>\n",
       "      <td>5.0</td>\n",
       "      <td>3.6</td>\n",
       "      <td>1.4</td>\n",
       "      <td>0.2</td>\n",
       "      <td>Iris-setosa</td>\n",
       "    </tr>\n",
       "    <tr>\n",
       "      <th>...</th>\n",
       "      <td>...</td>\n",
       "      <td>...</td>\n",
       "      <td>...</td>\n",
       "      <td>...</td>\n",
       "      <td>...</td>\n",
       "    </tr>\n",
       "    <tr>\n",
       "      <th>145</th>\n",
       "      <td>6.7</td>\n",
       "      <td>3.0</td>\n",
       "      <td>5.2</td>\n",
       "      <td>2.3</td>\n",
       "      <td>Iris-virginica</td>\n",
       "    </tr>\n",
       "    <tr>\n",
       "      <th>146</th>\n",
       "      <td>6.3</td>\n",
       "      <td>2.5</td>\n",
       "      <td>5.0</td>\n",
       "      <td>1.9</td>\n",
       "      <td>Iris-virginica</td>\n",
       "    </tr>\n",
       "    <tr>\n",
       "      <th>147</th>\n",
       "      <td>6.5</td>\n",
       "      <td>3.0</td>\n",
       "      <td>5.2</td>\n",
       "      <td>2.0</td>\n",
       "      <td>Iris-virginica</td>\n",
       "    </tr>\n",
       "    <tr>\n",
       "      <th>148</th>\n",
       "      <td>6.2</td>\n",
       "      <td>3.4</td>\n",
       "      <td>5.4</td>\n",
       "      <td>2.3</td>\n",
       "      <td>Iris-virginica</td>\n",
       "    </tr>\n",
       "    <tr>\n",
       "      <th>149</th>\n",
       "      <td>5.9</td>\n",
       "      <td>3.0</td>\n",
       "      <td>5.1</td>\n",
       "      <td>1.8</td>\n",
       "      <td>Iris-virginica</td>\n",
       "    </tr>\n",
       "  </tbody>\n",
       "</table>\n",
       "<p>150 rows × 5 columns</p>\n",
       "</div>"
      ],
      "text/plain": [
       "     sepal-length  sepal-width  petal-length  petal-width           Class\n",
       "0             5.1          3.5           1.4          0.2     Iris-setosa\n",
       "1             4.9          3.0           1.4          0.2     Iris-setosa\n",
       "2             4.7          3.2           1.3          0.2     Iris-setosa\n",
       "3             4.6          3.1           1.5          0.2     Iris-setosa\n",
       "4             5.0          3.6           1.4          0.2     Iris-setosa\n",
       "..            ...          ...           ...          ...             ...\n",
       "145           6.7          3.0           5.2          2.3  Iris-virginica\n",
       "146           6.3          2.5           5.0          1.9  Iris-virginica\n",
       "147           6.5          3.0           5.2          2.0  Iris-virginica\n",
       "148           6.2          3.4           5.4          2.3  Iris-virginica\n",
       "149           5.9          3.0           5.1          1.8  Iris-virginica\n",
       "\n",
       "[150 rows x 5 columns]"
      ]
     },
     "execution_count": 503,
     "metadata": {},
     "output_type": "execute_result"
    }
   ],
   "source": [
    "url=\"https://archive.ics.uci.edu/ml/machine-learning-databases/iris/iris.data\"\n",
    "\n",
    "header_list = ['sepal-length', 'sepal-width', 'petal-length', 'petal-width', 'Class']\n",
    "\n",
    "dataset = pd.read_csv(url,names=header_list)\n",
    "\n",
    "dataset\n",
    "\n",
    "\n"
   ]
  },
  {
   "cell_type": "code",
   "execution_count": 504,
   "metadata": {},
   "outputs": [],
   "source": [
    "X = dataset.iloc[:, :-1].values\n",
    "y = dataset.iloc[:, 4].values\n",
    "\n",
    "\n",
    "\n",
    "X_train, X_temp, y_train, y_temp = train_test_split(X, y, train_size=0.6)\n",
    "X_dev, X_test, y_dev, y_test = train_test_split(X_temp, y_temp, train_size=0.5)\n"
   ]
  },
  {
   "cell_type": "code",
   "execution_count": 505,
   "metadata": {},
   "outputs": [],
   "source": [
    "nomalize_data_x=X_dev.copy()\n",
    "nomalize_data_y=y_dev.copy()\n",
    "\n",
    "nomalize_data_train_x=X_train.copy()\n",
    "nomalize_data_train_y=y_train.copy()\n",
    "\n",
    "nomalize_data_test_x=X_test.copy()\n",
    "nomalize_data_test_y=y_test.copy()\n",
    "\n",
    "for i in range(len(nomalize_data_x[0])):\n",
    "\tmx=max(nomalize_data_x[:,i])\n",
    "\tmi=min(nomalize_data_x[:,i])\n",
    "\tnomalize_data_x[:,i]=(nomalize_data_x[:,i]-mi)/(mx-mi)\n",
    "\n",
    "    \n",
    "for i in range(len(nomalize_data_train_x[0])):\n",
    "\tmx=max(nomalize_data_train_x[:,i])\n",
    "\tmi=min(nomalize_data_train_x[:,i])\n",
    "\tnomalize_data_train_x[:,i]=(nomalize_data_train_x[:,i]-mi)/(mx-mi)  \n",
    "    \n",
    "for i in range(len(nomalize_data_test_x[0])):\n",
    "\tmx=max(nomalize_data_test_x[:,i])\n",
    "\tmi=min(nomalize_data_test_x[:,i])\n",
    "\tnomalize_data_test_x[:,i]=(nomalize_data_test_x[:,i]-mi)/(mx-mi)  \n",
    "      \n",
    "    "
   ]
  },
  {
   "cell_type": "markdown",
   "metadata": {},
   "source": [
    "### b. implement kNN using the following hyperparameters\n",
    "### number of neighbor K\n",
    "#### * 1,3,5,7\n",
    "### distance metric\n",
    "#### * euclidean distance\n",
    "#### * normalized euclidean distance\n",
    "#### * cosine similarity"
   ]
  },
  {
   "cell_type": "code",
   "execution_count": 506,
   "metadata": {},
   "outputs": [],
   "source": [
    "def euclidean_distance(row1, row2):\n",
    "\tdistance = 0.0\n",
    "\tfor i in range(len(row1)):\n",
    "\t\tdistance += (row1[i] - row2[i])**2\n",
    "\treturn sqrt(distance)"
   ]
  },
  {
   "cell_type": "code",
   "execution_count": 507,
   "metadata": {},
   "outputs": [],
   "source": [
    "def cosine_similarity_fuc(row1, row2):\n",
    "\taa = row1.reshape(1,4)\n",
    "\tba = row2.reshape(1,4)\n",
    "\tcos_lib = cosine_similarity(aa, ba)\n",
    "\treturn 1-cos_lib"
   ]
  },
  {
   "cell_type": "code",
   "execution_count": 508,
   "metadata": {},
   "outputs": [],
   "source": [
    "def get_neighbors(x_dev, test_row, num_neighbors,y_dev,distance_metric):\n",
    "\tdistances = list()\n",
    "\tneighbors = list()\n",
    "\tmx=0\n",
    "\tmi=10\n",
    "\tfor (x_dev_row , y_dev_row) in zip(x_dev,y_dev):\n",
    "\t\tif distance_metric =='euclidean' or 'normalized':\n",
    "\t\t\tdist = euclidean_distance(x_dev_row, test_row)\n",
    "\t\t\tdistances.append((x_dev_row, dist,y_dev_row))\n",
    "\t\tif distance_metric =='cosine':\n",
    "\t\t\tdist = cosine_similarity_fuc(x_dev_row, test_row)\n",
    "\t\t\tdistances.append((x_dev_row, dist,y_dev_row))\n",
    "\n",
    "        \n",
    "        \n",
    "        \n",
    "\tdistances.sort(key=lambda tup: tup[1])\n",
    "\t#num_neighbors+=1\n",
    "\tfor i in range(num_neighbors):\n",
    "\t\tneighbors.append(distances[i])\n",
    "\t#neighbors.pop(0)\n",
    "\treturn neighbors\n"
   ]
  },
  {
   "cell_type": "code",
   "execution_count": 509,
   "metadata": {},
   "outputs": [],
   "source": [
    "def predict_classification(dev_row, test_row, num_neighbors,y_dev,distance_metric):\n",
    "\tclass_list=list()\n",
    "\tneighbors = get_neighbors(dev_row, test_row, num_neighbors,y_dev,distance_metric)\n",
    "\tfor row in neighbors:\n",
    "\t\tclass_list.append(row[2])\n",
    "\treturn class_list"
   ]
  },
  {
   "cell_type": "markdown",
   "metadata": {},
   "source": [
    "### C. Using the development dataset,\n",
    "#### Calculate accuracy by iterating all of the development data point\n",
    "\n"
   ]
  },
  {
   "cell_type": "code",
   "execution_count": 510,
   "metadata": {},
   "outputs": [],
   "source": [
    "precict_class_1=list()\n",
    "precict_class_3=list()\n",
    "precict_class_5=list()\n",
    "precict_class_7=list()\n",
    "diff_K=np.array\n",
    "num=[1,3,5,7]\n",
    "for i in num:\n",
    "\tfor row in X_dev:\n",
    "\t\tpredict=predict_classification(X_train,row,i,y_train,'euclidean')\n",
    "\t\ta = Counter(predict)\n",
    "\t\tif i ==1:   \n",
    "\t\t\tprecict_class_1.append(a.most_common(1)[0][0])\n",
    "\t\telif i ==3:\n",
    "\t\t\tprecict_class_3.append(a.most_common(1)[0][0])\n",
    "\t\telif i ==5:\n",
    "\t\t\tprecict_class_5.append(a.most_common(1)[0][0])\n",
    "\t\telse:\n",
    "\t\t\tprecict_class_7.append(a.most_common(1)[0][0])\n",
    "diff_K=[precict_class_1,precict_class_3,precict_class_5,precict_class_7]\n"
   ]
  },
  {
   "cell_type": "code",
   "execution_count": 511,
   "metadata": {},
   "outputs": [
    {
     "name": "stdout",
     "output_type": "stream",
     "text": [
      "[93.33333333333333, 93.33333333333333, 93.33333333333333, 96.66666666666667]\n"
     ]
    }
   ],
   "source": [
    "correct =0\n",
    "result_1=[]\n",
    "list_num=[0,1,2,3]\n",
    "for list_nums in list_num:\n",
    "\tcorrect =0\n",
    "\tfor i in range(len(diff_K[list_nums])):\n",
    "\t\tif diff_K[list_nums][i]==y_dev[i]:\n",
    "\t\t\tcorrect+=1\n",
    "\tresult_1.append(correct/len(diff_K[0])*100)\n",
    "\tcorrect=0\n",
    "print(result_1)"
   ]
  },
  {
   "cell_type": "code",
   "execution_count": 512,
   "metadata": {},
   "outputs": [],
   "source": [
    "precict_class_1=list()\n",
    "precict_class_3=list()\n",
    "precict_class_5=list()\n",
    "precict_class_7=list()\n",
    "diff_K=np.array\n",
    "num=[1,3,5,7]\n",
    "for i in num:\n",
    "\tfor row in X_dev:\n",
    "\t\tpredict=predict_classification(X_train,row,i,y_train,'cosine')\n",
    "\t\ta = Counter(predict)\n",
    "\t\tif i ==1:   \n",
    "\t\t\tprecict_class_1.append(a.most_common(1)[0][0])\n",
    "\t\telif i ==3:\n",
    "\t\t\tprecict_class_3.append(a.most_common(1)[0][0])\n",
    "\t\telif i ==5:\n",
    "\t\t\tprecict_class_5.append(a.most_common(1)[0][0])\n",
    "\t\telse:\n",
    "\t\t\tprecict_class_7.append(a.most_common(1)[0][0])\n",
    "diff_K=[precict_class_1,precict_class_3,precict_class_5,precict_class_7]\n",
    "    \n",
    "    \n"
   ]
  },
  {
   "cell_type": "code",
   "execution_count": 513,
   "metadata": {},
   "outputs": [
    {
     "name": "stdout",
     "output_type": "stream",
     "text": [
      "[93.33333333333333, 93.33333333333333, 96.66666666666667, 96.66666666666667]\n"
     ]
    }
   ],
   "source": [
    "correct =0\n",
    "result_2=[]\n",
    "list_num=[0,1,2,3]\n",
    "for list_num in list_num:\n",
    "\tcorrect =0\n",
    "\tfor i in range(len(diff_K[list_num])):\n",
    "\t\tif diff_K[list_num][i]==y_dev[i]:\n",
    "\t\t\tcorrect+=1\n",
    "\tresult_2.append(correct/len(diff_K[0])*100)\n",
    "\tcorrect=0\n",
    "print(result_2)"
   ]
  },
  {
   "cell_type": "code",
   "execution_count": 514,
   "metadata": {},
   "outputs": [],
   "source": [
    "precict_class_1=list()\n",
    "precict_class_3=list()\n",
    "precict_class_5=list()\n",
    "precict_class_7=list()\n",
    "diff_K=np.array\n",
    "num=[1,3,5,7]\n",
    "for i in num:\n",
    "\tfor row in nomalize_data_x:\n",
    "\t\tpredict=predict_classification(nomalize_data_train_x,row,i,nomalize_data_train_y,'normalized')\n",
    "\t\ta = Counter(predict)\n",
    "\t\tif i ==1:   \n",
    "\t\t\tprecict_class_1.append(a.most_common(1)[0][0])\n",
    "\t\telif i ==3:\n",
    "\t\t\tprecict_class_3.append(a.most_common(1)[0][0])\n",
    "\t\telif i ==5:\n",
    "\t\t\tprecict_class_5.append(a.most_common(1)[0][0])\n",
    "\t\telse:\n",
    "\t\t\tprecict_class_7.append(a.most_common(1)[0][0])\n",
    "diff_K=[precict_class_1,precict_class_3,precict_class_5,precict_class_7]\n"
   ]
  },
  {
   "cell_type": "code",
   "execution_count": 515,
   "metadata": {},
   "outputs": [
    {
     "name": "stdout",
     "output_type": "stream",
     "text": [
      "[90.0, 90.0, 90.0, 90.0]\n"
     ]
    }
   ],
   "source": [
    "correct =0\n",
    "result_3=[]\n",
    "list_num=[0,1,2,3]\n",
    "for list_num in list_num:\n",
    "\tcorrect =0\n",
    "\tfor i in range(len(diff_K[list_num])):\n",
    "\t\tif diff_K[list_num][i]==nomalize_data_y[i]:\n",
    "\t\t\tcorrect+=1\n",
    "\tresult_3.append(correct/len(diff_K[0])*100)\n",
    "\tcorrect=0\n",
    "print(result_3)"
   ]
  },
  {
   "cell_type": "markdown",
   "metadata": {},
   "source": [
    "\n",
    "### Find optimal hyperparameters\n",
    "#### *Draw bar charts for accuracy"
   ]
  },
  {
   "cell_type": "code",
   "execution_count": null,
   "metadata": {},
   "outputs": [],
   "source": []
  },
  {
   "cell_type": "code",
   "execution_count": null,
   "metadata": {},
   "outputs": [],
   "source": []
  },
  {
   "cell_type": "code",
   "execution_count": 516,
   "metadata": {
    "scrolled": true
   },
   "outputs": [
    {
     "data": {
      "image/png": "[encoded data removed]",
      "text/plain": [
       "<Figure size 1080x360 with 1 Axes>"
      ]
     },
     "metadata": {},
     "output_type": "display_data"
    }
   ],
   "source": [
    "N = 4\n",
    "\n",
    "ind = np.arange(N) \n",
    "width = 0.35       \n",
    "fig = plt.figure(figsize=(15,5),facecolor='w')\n",
    "#plt.rcParams[\"figure.figsize\"] = (20,10)\n",
    "\n",
    "plt.bar(ind, result_1, width, label='Euclidean')\n",
    "plt.bar(ind + width, result_2, width,\n",
    "    label='Cosine Similarity')\n",
    "plt.bar(ind + width+ width, result_3, width,\n",
    "    label='Normalized Euclidean')\n",
    "\n",
    "\n",
    "plt.ylabel('Accuracy', fontsize=40)\n",
    "plt.ylim((70,100))\n",
    "\n",
    "plt.xticks(ind + width / 2, ('K=1', 'K=3', 'K=5', 'K=7') ,fontsize=40)\n",
    "plt.legend(loc='best' ,fontsize=10)\n",
    "plt.show()"
   ]
  },
  {
   "cell_type": "markdown",
   "metadata": {},
   "source": [
    "### Use K = 7 Since it gives the highest accuracy"
   ]
  },
  {
   "cell_type": "code",
   "execution_count": 517,
   "metadata": {},
   "outputs": [],
   "source": [
    "precict_class_1=list()\n",
    "diff_K=np.array\n",
    "num=[7]\n",
    "for i in num:\n",
    "\tfor row in X_test:\n",
    "\t\tpredict=predict_classification(X_train,row,i,y_train,'euclidean')\n",
    "\t\ta = Counter(predict)\n",
    "\t\tprecict_class_1.append(a.most_common(1)[0][0])\n",
    "diff_K=[precict_class_1]  \n"
   ]
  },
  {
   "cell_type": "code",
   "execution_count": 518,
   "metadata": {},
   "outputs": [],
   "source": [
    "correct =0\n",
    "result_test=[]\n",
    "\n",
    "for i in range(len(diff_K[0])-1):\n",
    "\tif diff_K[0][i]==y_test[i]:\n",
    "\t\tcorrect+=1\n",
    "result_test.append(correct/len(diff_K[0])*100)\n",
    "correct=0\n",
    "\n"
   ]
  },
  {
   "cell_type": "code",
   "execution_count": 519,
   "metadata": {},
   "outputs": [],
   "source": [
    "precict_class_1=list()\n",
    "diff_K=np.array\n",
    "num=[7]\n",
    "for i in num:\n",
    "\tfor row in X_test:\n",
    "\t\tpredict=predict_classification(X_train,row,i,y_train,'cosine')\n",
    "\t\ta = Counter(predict)\n",
    "\t\tprecict_class_1.append(a.most_common(1)[0][0])\n",
    "diff_K=[precict_class_1]  \n"
   ]
  },
  {
   "cell_type": "code",
   "execution_count": 520,
   "metadata": {},
   "outputs": [],
   "source": [
    "correct =0\n",
    "\n",
    "for i in range(len(diff_K[0])-1):\n",
    "\tif diff_K[0][i]==y_test[i]:\n",
    "\t\tcorrect+=1\n",
    "result_test.append(correct/len(diff_K[0])*100)\n",
    "correct=0\n",
    "\n"
   ]
  },
  {
   "cell_type": "code",
   "execution_count": 521,
   "metadata": {},
   "outputs": [],
   "source": [
    "precict_class_1=list()\n",
    "diff_K=np.array\n",
    "num=[7]\n",
    "for i in num:\n",
    "\tfor row in nomalize_data_test_x:\n",
    "\t\tpredict=predict_classification(nomalize_data_train_x,row,i,nomalize_data_train_y,'normalized')\n",
    "\t\ta = Counter(predict)\n",
    "\t\tprecict_class_1.append(a.most_common(1)[0][0])\n",
    "diff_K=[precict_class_1]  "
   ]
  },
  {
   "cell_type": "code",
   "execution_count": 522,
   "metadata": {},
   "outputs": [
    {
     "name": "stdout",
     "output_type": "stream",
     "text": [
      "[90.0, 90.0, 86.66666666666667]\n"
     ]
    }
   ],
   "source": [
    "correct =0\n",
    "\n",
    "for i in range(len(diff_K[0])-1):\n",
    "\tif diff_K[0][i]==nomalize_data_test_y[i]:\n",
    "\t\tcorrect+=1\n",
    "result_test.append(correct/len(diff_K[0])*100)\n",
    "correct=0\n",
    "print(result_test)\n"
   ]
  },
  {
   "cell_type": "code",
   "execution_count": 523,
   "metadata": {},
   "outputs": [
    {
     "data": {
      "image/png": "[encoded data removed]",
      "text/plain": [
       "<Figure size 1080x360 with 1 Axes>"
      ]
     },
     "metadata": {},
     "output_type": "display_data"
    }
   ],
   "source": [
    "fig = plt.figure(figsize=(15,5),facecolor='w')\n",
    "\n",
    "objects = ('Euclidean', 'Cosine Similarity', 'Normalized')\n",
    "y_pos = np.arange(len(objects))\n",
    "\n",
    "plt.bar(y_pos, result_test, align='center', alpha=0.5)\n",
    "plt.xticks(y_pos, objects,fontsize=10)\n",
    "plt.ylabel('Accuracy',fontsize=10)\n",
    "plt.title('K= 7 with Test Dataset')\n",
    "\n",
    "plt.show()"
   ]
  },
  {
   "cell_type": "code",
   "execution_count": null,
   "metadata": {},
   "outputs": [],
   "source": []
  }
 ],
 "metadata": {
  "kernelspec": {
   "display_name": "Python 3",
   "language": "python",
   "name": "python3"
  },
  "language_info": {
   "codemirror_mode": {
    "name": "ipython",
    "version": 3
   },
   "file_extension": ".py",
   "mimetype": "text/x-python",
   "name": "python",
   "nbconvert_exporter": "python",
   "pygments_lexer": "ipython3",
   "version": "3.8.3"
  }
 },
 "nbformat": 4,
 "nbformat_minor": 4
}
